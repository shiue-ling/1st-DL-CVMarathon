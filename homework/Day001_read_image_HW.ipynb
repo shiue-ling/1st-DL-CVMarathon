{
 "cells": [
  {
   "cell_type": "markdown",
   "metadata": {},
   "source": [
    "# 作業\n",
    "#### 思考一下我們前面有提到圖片是矩陣，但維度可能會不一樣 例如灰階圖只有兩個維度，RGB 彩圖則有 3 個維度\n",
    "#### 假如今天我們把 RGB 3 個維度拆開來看會有甚麼不同的效果呢？"
   ]
  },
  {
   "cell_type": "code",
   "execution_count": 1,
   "metadata": {},
   "outputs": [],
   "source": [
    "import cv2\n",
    "img_path = 'data/lena.png'"
   ]
  },
  {
   "cell_type": "code",
   "execution_count": 2,
   "metadata": {},
   "outputs": [],
   "source": [
    "#RGB\n",
    "img_rgb = cv2.imread(img_path, cv2.IMREAD_COLOR)\n",
    "\n",
    "#Gary\n",
    "img_gray = cv2.imread(img_path, cv2.IMREAD_GRAYSCALE)\n"
   ]
  },
  {
   "cell_type": "code",
   "execution_count": null,
   "metadata": {},
   "outputs": [],
   "source": [
    "# print('img_rgb.shape:', img_rgb.shape)\n",
    "R = img_rgb[:,:,0]\n",
    "G = img_rgb[:,:,1]\n",
    "B = img_rgb[:,:,2]\n",
    "\n",
    "while True:\n",
    "    cv2.imshow('rgb', img_rgb)\n",
    "    cv2.imshow('gray', img_gray)    \n",
    "    cv2.imshow('R', R)\n",
    "    cv2.imshow('G', G)\n",
    "    cv2.imshow('B', B)\n",
    "    \n",
    "    k = cv2.waitKey(0)\n",
    "    if k == 27:\n",
    "        cv2.destroyAllWindows()\n",
    "        break\n"
   ]
  }
 ],
 "metadata": {
  "kernelspec": {
   "display_name": "Python 3",
   "language": "python",
   "name": "python3"
  },
  "language_info": {
   "codemirror_mode": {
    "name": "ipython",
    "version": 3
   },
   "file_extension": ".py",
   "mimetype": "text/x-python",
   "name": "python",
   "nbconvert_exporter": "python",
   "pygments_lexer": "ipython3",
   "version": "3.7.4"
  }
 },
 "nbformat": 4,
 "nbformat_minor": 2
}
