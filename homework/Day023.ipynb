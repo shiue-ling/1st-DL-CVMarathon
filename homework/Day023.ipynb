{
 "cells": [
  {
   "cell_type": "code",
   "execution_count": 1,
   "metadata": {},
   "outputs": [],
   "source": [
    "import cv2\n",
    "\n",
    "# 讀取圖檔\n",
    "im = cv2.imread('image.JPG')\n",
    "\n",
    "# 建立 Selective Search 分割器\n",
    "ss = cv2.ximgproc.segmentation.createSelectiveSearchSegmentation()\n",
    "\n",
    "# 設定要進行分割的圖形\n",
    "ss.setBaseImage(im)\n",
    "\n",
    "# 使用快速模式（精準度較差）\n",
    "ss.switchToSelectiveSearchFast()\n",
    "\n"
   ]
  },
  {
   "cell_type": "code",
   "execution_count": null,
   "metadata": {},
   "outputs": [],
   "source": [
    "# 使用精準模式（速度較慢）\n",
    "# ss.switchToSelectiveSearchQuality()\n",
    "\n",
    "# 執行 Selective Search 分割\n",
    "rects = ss.process()\n",
    "\n",
    "print('候選區域總數量： {}'.format(len(rects)))\n",
    "\n",
    "# 要顯示的候選區域數量\n",
    "numShowRects = 100\n",
    "\n",
    "# 每次增加或減少顯示的候選區域數量\n",
    "increment = 50\n",
    "\n",
    "while True:\n",
    "  # 複製一份原始影像\n",
    "  imOut = im.copy()\n",
    "\n",
    "  # 以迴圈處理每一個候選區域\n",
    "  for i, rect in enumerate(rects):\n",
    "      # 以方框標示候選區域\n",
    "    if (i < numShowRects):\n",
    "        x, y, w, h = rect\n",
    "        cv2.rectangle(imOut, (x, y), (x+w, y+h), (0, 255, 0), 1, cv2.LINE_AA)\n",
    "    else:\n",
    "        break\n",
    "\n",
    "  # 顯示結果\n",
    "  cv2.imshow(\"Output\", imOut)\n",
    "\n",
    "  # 讀取使用者所按下的鍵\n",
    "  k = cv2.waitKey(0) & 0xFF\n",
    "\n",
    "  # 若按下 m 鍵，則增加 numShowRects\n",
    "  if k == 109:\n",
    "        numShowRects += increment\n",
    "  # 若按下 l 鍵，則減少 numShowRects\n",
    "  elif k == 108 and numShowRects > increment:\n",
    "        numShowRects -= increment\n",
    "  # 若按下 q 鍵，則離開\n",
    "  elif k == 113:\n",
    "        break\n",
    "\n",
    "# 關閉圖形顯示視窗\n",
    "cv2.destroyAllWindows()"
   ]
  }
 ],
 "metadata": {
  "kernelspec": {
   "display_name": "Python 3",
   "language": "python",
   "name": "python3"
  },
  "language_info": {
   "codemirror_mode": {
    "name": "ipython",
    "version": 3
   },
   "file_extension": ".py",
   "mimetype": "text/x-python",
   "name": "python",
   "nbconvert_exporter": "python",
   "pygments_lexer": "ipython3",
   "version": "3.7.4"
  }
 },
 "nbformat": 4,
 "nbformat_minor": 2
}
