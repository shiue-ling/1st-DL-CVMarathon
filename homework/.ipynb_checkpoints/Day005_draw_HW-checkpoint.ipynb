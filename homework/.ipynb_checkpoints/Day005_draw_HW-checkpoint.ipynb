{
 "cells": [
  {
   "cell_type": "markdown",
   "metadata": {},
   "source": [
    "#  作業\n",
    "\n",
    "Hint: 人物原始邊框座標 (60, 40), (420, 510)\n",
    "\n",
    "請根據 Lena 圖做以下處理\n",
    "\n",
    "- 對明亮度做直方圖均衡處理\n",
    "- 水平鏡像 + 縮放處理 (0.5 倍)\n",
    "- 畫出人物矩形邊框"
   ]
  },
  {
   "cell_type": "code",
   "execution_count": 3,
   "metadata": {},
   "outputs": [],
   "source": [
    "import cv2\n",
    "import numpy as np\n",
    "\n",
    "img = cv2.imread('data/lena.png')"
   ]
  },
  {
   "cell_type": "markdown",
   "metadata": {},
   "source": [
    "## Hint: 矩形"
   ]
  },
  {
   "cell_type": "code",
   "execution_count": null,
   "metadata": {},
   "outputs": [],
   "source": [
    "img_rect = img.copy()\n",
    "cv2.rectangle(img_rect, (60, 40), (420, 510), (0, 0, 255), 3)\n",
    "\n",
    "while True:\n",
    "    cv2.imshow('image', img_rect)\n",
    "    k = cv2.waitKey(0)\n",
    "    if k==27:\n",
    "        cv2.destoryAllWindows()\n",
    "        break"
   ]
  },
  {
   "cell_type": "markdown",
   "metadata": {},
   "source": [
    "## Hint: 線"
   ]
  },
  {
   "cell_type": "code",
   "execution_count": null,
   "metadata": {},
   "outputs": [],
   "source": [
    "img_line = img.copy()\n",
    "cv2.line(img_line, (60, 40), (420, 510), (0, 0, 255), 3)\n",
    "\n",
    "while True:\n",
    "    cv2.imshow('image', img_line)\n",
    "    k = cv2.waitKey(0)\n",
    "    if k == 27:\n",
    "        cv2.destoryAllWindow()\n",
    "        break"
   ]
  },
  {
   "cell_type": "markdown",
   "metadata": {},
   "source": [
    "## Hint: 文字"
   ]
  },
  {
   "cell_type": "code",
   "execution_count": null,
   "metadata": {},
   "outputs": [],
   "source": [
    "img_text = img.copy()\n",
    "# ( , , , 字型, 大小, , )\n",
    "cv2.putText(img_text, '(60, 40)', (60, 40), 0, 1, (0, 0, 255), 2)\n",
    "\n",
    "while True:\n",
    "    cv2.imshow('image', img_text)\n",
    "    k = cv2.waitKey(0)\n",
    "    if k == 27:\n",
    "        cv2.destroyAllWindows()\n",
    "        break\n"
   ]
  },
  {
   "cell_type": "markdown",
   "metadata": {},
   "source": [
    "##  解法二\n",
    "\n",
    "如果希望得知矩型邊框的位置\n",
    "\n",
    "1. 顏色的操作 (對明亮度做直方圖均衡)\n",
    "2. 鏡像可以透過四則運算得知\n",
    "3. 透過建構 transformation matrix 做縮放\n",
    "4. 把矩型邊框的點與 transformation matrix 相乘就會得到縮放後的位置\n",
    "5. 畫圖\n",
    "\n",
    "得到的圖的結果正確，同時也知道新的矩型邊框座標點"
   ]
  },
  {
   "cell_type": "code",
   "execution_count": 6,
   "metadata": {},
   "outputs": [
    {
     "name": "stdout",
     "output_type": "stream",
     "text": [
      "(512, 512, 3)\n"
     ]
    }
   ],
   "source": [
    "img_hw = img.copy()\n",
    "point1 = [60, 40]\n",
    "point2 = [420, 510]\n",
    "\n",
    "\"\"\"\n",
    "對明亮度做直方圖均衡\n",
    "\"\"\"\n",
    "# 原始 BGR 圖片轉 HSV 圖片\n",
    "img_hw = cv2.cvtColor(img_hw, cv2.COLOR_BGR2HSV)\n",
    "\n",
    "# 對明亮度做直方圖均衡 -> 對 HSV 的 V 做直方圖均衡\n",
    "img_hw[..., -1] = cv2.equalizeHist(img_hw[..., -1])\n",
    "\n",
    "# 將圖片轉回 BGR\n",
    "img_hw = cv2.cvtColor(img_hw, cv2.COLOR_HSV2BGR)\n",
    "\n",
    "\"\"\"\n",
    "水平鏡像\n",
    "\"\"\"\n",
    "h, w = img_hw.shape[:2]\n",
    "\n",
    "# 圖片鏡像\n",
    "img_hw = img_hw[:, ::-1, :]\n",
    "\n",
    "# 透過四則運算計算鏡像後位置\n",
    "# 確保點的位置一樣是左上跟右下，所以交換鏡像後的 x 座標 (y 座標做水平鏡像後位置不變)\n",
    "\n",
    "\n",
    "\n"
   ]
  }
 ],
 "metadata": {
  "kernelspec": {
   "display_name": "Python 3",
   "language": "python",
   "name": "python3"
  },
  "language_info": {
   "codemirror_mode": {
    "name": "ipython",
    "version": 3
   },
   "file_extension": ".py",
   "mimetype": "text/x-python",
   "name": "python",
   "nbconvert_exporter": "python",
   "pygments_lexer": "ipython3",
   "version": "3.7.4"
  }
 },
 "nbformat": 4,
 "nbformat_minor": 2
}
