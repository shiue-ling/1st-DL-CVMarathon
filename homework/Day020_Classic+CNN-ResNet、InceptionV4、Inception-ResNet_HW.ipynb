{
 "cells": [
  {
   "cell_type": "markdown",
   "metadata": {},
   "source": [
    "## 『本次練習內容』\n",
    "#### 學習如何搭建 Residual Block\n",
    "####  學習如何搭建Inception-ResNet中的 Inception Block"
   ]
  },
  {
   "cell_type": "markdown",
   "metadata": {},
   "source": [
    "## 『本次練習目的』\n",
    "  #### 了解 Residual Block原理\n",
    "  #### 了解如何結合Inception 與 Residual概念"
   ]
  },
  {
   "cell_type": "markdown",
   "metadata": {},
   "source": [
    "---"
   ]
  },
  {
   "cell_type": "markdown",
   "metadata": {},
   "source": [
    "## Part1"
   ]
  },
  {
   "cell_type": "code",
   "execution_count": 59,
   "metadata": {},
   "outputs": [],
   "source": [
    "import numpy as np\n",
    "from keras.models import Model\n",
    "from keras.layers import Flatten\n",
    "from keras.layers import Dense\n",
    "from keras.layers import Input\n",
    "from keras.layers import Conv2D\n",
    "from keras.layers import MaxPooling2D\n",
    "from keras.layers import GlobalMaxPooling2D\n",
    "from keras.layers import GlobalAveragePooling2D\n",
    "from keras import backend as K\n",
    "from keras import layers\n",
    "from keras.layers import BatchNormalization\n",
    "from keras.layers import Activation\n",
    "from keras.layers import Concatenate\n",
    "from keras.layers import Lambda"
   ]
  },
  {
   "cell_type": "markdown",
   "metadata": {},
   "source": [
    "![Incpeiton](data/ResNet_Structure.png)"
   ]
  },
  {
   "cell_type": "markdown",
   "metadata": {},
   "source": [
    "## ResNetV1"
   ]
  },
  {
   "cell_type": "code",
   "execution_count": 60,
   "metadata": {},
   "outputs": [],
   "source": [
    "def Residual_block(input_tensor, kernel_size, filters, stage, block):\n",
    "    filters1, filters2, filters3 = filters   #(a)\n",
    "    conv_name_base = 'res' + str(stage) + block + '_branch'\n",
    "    bn_name_base = 'bn' + str(stage) + block + '_branch'\n",
    "\n",
    "    x = Conv2D(filters1, (1, 1), name=conv_name_base + '2a')(input_tensor)\n",
    "    x = BatchNormalization(axis=3, name=bn_name_base + '2a')(x)\n",
    "    x = Activation('relu')(x)\n",
    "\n",
    "    x = Conv2D(filters2, kernel_size,\n",
    "               padding='same', name=conv_name_base + '2b')(x)\n",
    "    x = BatchNormalization(axis=3, name=bn_name_base + '2b')(x)\n",
    "   \n",
    "    x = layers.add([x, input_tensor])\n",
    "    x = Activation('relu')(x)\n",
    "    return x"
   ]
  },
  {
   "cell_type": "markdown",
   "metadata": {},
   "source": [
    "## 參考ResNetV1 搭建 ResNetV2版本的Residual Block"
   ]
  },
  {
   "cell_type": "code",
   "execution_count": 61,
   "metadata": {},
   "outputs": [],
   "source": [
    "def Residual_block_v2(input_tensor, kernel_size, filters, stage, block):\n",
    "    filters1, filters2, filters3 = filters\n",
    "    conv_name_base = 'res' + str(stage) + block + '_branch'\n",
    "    bn_name_base = 'bn' + str(stage) + block + '_branch'\n",
    "\n",
    "    '''搭建V2版本Block'''\n",
    "    x = BatchNormalization(axis=3, name=bn_name_base + '2a')(input_tensor)\n",
    "    x = Activation('relu')(x)    \n",
    "    x = Conv2D(filters1, (1, 1), name=conv_name_base + '2a')(x)\n",
    "    \n",
    "    x = BatchNormalization(axis=3, name=bn_name_base + '2b')(x)\n",
    "    x = Activation('relu')(x)      \n",
    "    \n",
    "    x = Conv2D(filters2, kernel_size,\n",
    "               padding='same', name=conv_name_base + '2b')(x)\n",
    "\n",
    "    x = layers.add([x, input_tensor])\n",
    "    return x"
   ]
  },
  {
   "cell_type": "markdown",
   "metadata": {},
   "source": [
    "## 試試看自己設計一個先壓縮再回放的V2 Block"
   ]
  },
  {
   "cell_type": "code",
   "execution_count": 62,
   "metadata": {},
   "outputs": [],
   "source": [
    "def Residual_block_v2(input_tensor, kernel_size, stage, block,reduce=96,ouput_size=128):\n",
    "    conv_name_base = 'res' + str(stage) + block + '_branch'\n",
    "    bn_name_base = 'bn' + str(stage) + block + '_branch'\n",
    "\n",
    "    '''搭建V2版本Block'''    \n",
    "    x = Conv2D(reduce, (1, 1), name=conv_name_base + '2a')(input_tensor)\n",
    "    x = BatchNormalization(axis=3, name=bn_name_base + '2a')(x)\n",
    "    x = Activation('relu')(x)    \n",
    "    \n",
    "    x = Conv2D(reduce, (1, 1), name=conv_name_base + '2b')(x)\n",
    "    x = BatchNormalization(axis=3, name=bn_name_base + '2b')(x)\n",
    "    x = Activation('relu')(x)      \n",
    "    \n",
    "    x = Conv2D(reduce, kernel_size,\n",
    "               padding='same', name=conv_name_base + '2c')(x)\n",
    "\n",
    "    x = layers.add([x, input_tensor])\n",
    "    return x    \n"
   ]
  },
  {
   "cell_type": "markdown",
   "metadata": {},
   "source": [
    "---"
   ]
  },
  {
   "cell_type": "markdown",
   "metadata": {},
   "source": [
    "## Part2"
   ]
  },
  {
   "cell_type": "markdown",
   "metadata": {
    "colab_type": "text",
    "id": "tfa8Vx5iJbZU"
   },
   "source": [
    "## Incpetion Block-A"
   ]
  },
  {
   "cell_type": "markdown",
   "metadata": {
    "colab_type": "text",
    "id": "xbuyi79mJbZX"
   },
   "source": [
    "![Incpeiton](data/Inception-ResNet-A.png)"
   ]
  },
  {
   "cell_type": "markdown",
   "metadata": {
    "colab_type": "text",
    "id": "3GI24k24JbZa"
   },
   "source": [
    "## Incpetion Block-B"
   ]
  },
  {
   "cell_type": "markdown",
   "metadata": {
    "colab_type": "text",
    "id": "Ge28e58BJbZd"
   },
   "source": [
    "![Incpeiton](data/Inception-ResNet-B.png)"
   ]
  },
  {
   "cell_type": "markdown",
   "metadata": {
    "colab_type": "text",
    "id": "aMz1WNBsJbZg"
   },
   "source": [
    "## Incpetion Block-C"
   ]
  },
  {
   "cell_type": "markdown",
   "metadata": {
    "colab_type": "text",
    "id": "A4lY1HV6JbZj"
   },
   "source": [
    "![Incpeiton](data/Inception-ResNet-C.png)"
   ]
  },
  {
   "cell_type": "code",
   "execution_count": 63,
   "metadata": {
    "colab": {},
    "colab_type": "code",
    "id": "t9IKAa_4JbZ1"
   },
   "outputs": [],
   "source": [
    "def Conv2d_bn(x,filters,kernel_size,padding='same',strides=(1, 1),normalizer=True,activation='relu',name=None):\n",
    "    if name is not None:\n",
    "        conv_name = name + '_conv'\n",
    "        bn_name = name + '_bn'\n",
    "        act_name = name + '_act'\n",
    "    else:\n",
    "        conv_name = None\n",
    "        bn_name = None\n",
    "        act_name = None\n",
    "    if K.image_data_format() == 'channels_first':\n",
    "        bn_axis = 1\n",
    "    else:\n",
    "        bn_axis = 3\n",
    "    x = Conv2D(\n",
    "            filters, kernel_size,\n",
    "            strides=strides, padding=padding,\n",
    "            use_bias=False, name=conv_name)(x)\n",
    "    if normalizer:\n",
    "        x = BatchNormalization(axis=bn_axis, scale=False, name=bn_name)(x)\n",
    "    if activation:\n",
    "        x = Activation(activation, name=act_name)(x)\n",
    "    return x"
   ]
  },
  {
   "cell_type": "code",
   "execution_count": 64,
   "metadata": {
    "colab": {},
    "colab_type": "code",
    "id": "d7iVPJQkJbZ-"
   },
   "outputs": [],
   "source": [
    "def Residual_block(input_tensor, kernel_size, filters, stage, block):\n",
    "    filters1, filters2, filters3 = filters\n",
    "    conv_name_base = 'res' + str(stage) + block + '_branch'\n",
    "    bn_name_base = 'bn' + str(stage) + block + '_branch'\n",
    "\n",
    "    x = Conv2D(filters1, (1, 1), name=conv_name_base + '2a')(input_tensor)\n",
    "    x = BatchNormalization(axis=3, name=bn_name_base + '2a')(x)\n",
    "    x = Activation('relu')(x)\n",
    "\n",
    "    x = Conv2D(filters2, kernel_size,\n",
    "               padding='same', name=conv_name_base + '2b')(x)\n",
    "    x = BatchNormalization(axis=3, name=bn_name_base + '2b')(x)\n",
    "    x = Activation('relu')(x)\n",
    "\n",
    "    x = Conv2D(filters3, (1, 1), name=conv_name_base + '2c')(x)\n",
    "    x = BatchNormalization(axis=3, name=bn_name_base + '2c')(x)\n",
    "\n",
    "    x = layers.add([x, input_tensor])\n",
    "    x = Activation('relu')(x)\n",
    "    return x"
   ]
  },
  {
   "cell_type": "markdown",
   "metadata": {
    "colab_type": "text",
    "id": "M0BEkO7VJbaI"
   },
   "source": [
    "## 參考上方Residual_block搭建 Inception-ResNet中的Inception Block"
   ]
  },
  {
   "cell_type": "code",
   "execution_count": 65,
   "metadata": {
    "colab": {},
    "colab_type": "code",
    "id": "XJjxq9lWJbaN"
   },
   "outputs": [],
   "source": [
    "def inception_resnet_block(x, scale, block_type, activation='relu'):\n",
    "    '''scale: scaling factor to scale the residuals (i.e., the output of\n",
    "            passing `x` through an inception module) before adding them\n",
    "            to the shortcut branch. Let `r` be the output from the residual branch,\n",
    "            the output of this block will be `x + scale * r`.(簡單來說就是控制Residual branch的比例)'''\n",
    "    if block_type == 'Incpetion_Block-A':\n",
    "        branch_0 = Conv2d_bn(x, 32, 1)\n",
    "        branch_1 = Conv2d_bn(x, 32, 1)\n",
    "        branch_1 = Conv2d_bn(branch_1, 32, 3)\n",
    "        branch_2 = Conv2d_bn(x, 32, 1)\n",
    "        branch_2 = Conv2d_bn(branch_2, 48, 3)\n",
    "        branch_2 = Conv2d_bn(branch_2, 64, 3) \n",
    "        branches = [branch_0, branch_1, branch_2]\n",
    "    elif block_type == 'Incpetion_Block-B':\n",
    "        branch_0 = Conv2d_bn(x, 192, 1)\n",
    "        branch_1 = Conv2d_bn(x, 128, 1)\n",
    "        branch_1 = Conv2d_bn(branch_1, 160, (1, 7))\n",
    "        branch_1 = Conv2d_bn(branch_1, 192, (7, 1))\n",
    "        branches = [branch_0, branch_1]\n",
    "    elif block_type == 'Incpetion_Block-C':\n",
    "        branch_0 = Conv2d_bn(x, 192, 1)\n",
    "        branch_1 = Conv2d_bn(x, 192, 1)\n",
    "        branch_1 = Conv2d_bn(branch_1, 192, (1, 3))\n",
    "        branch_1 = Conv2d_bn(branch_1, 192, (3, 1)) \n",
    "        branches = [branch_0, branch_1]\n",
    "    else:\n",
    "        raise ValueError('Unknown Inception-ResNet block type. '\n",
    "                         'Expects \"block35\", \"block17\" or \"block8\", '\n",
    "                         'but got: ' + str(block_type))\n",
    "    mixed = Concatenate(axis=3)(branches)\n",
    "    \n",
    "    '''確保輸入跟輸出深度相同'''\n",
    "    up = Conv2d_bn(mixed,K.int_shape(x)[3],1,activation=None)\n",
    "    \n",
    "    '''導入殘差結構，並給予權重'''\n",
    "    \n",
    "    x = Lambda(lambda inputs, scale: inputs[0]+ inputs[1] * scale, ##提示inputs[0]、inputs[1]\n",
    "               output_shape=K.int_shape(x)[1:],\n",
    "               arguments={'scale': scale},)([x,up])\n",
    "    \n",
    "    if activation is not None:\n",
    "        x = Activation(activation)(x)\n",
    "    return x\n"
   ]
  },
  {
   "cell_type": "code",
   "execution_count": 66,
   "metadata": {
    "colab": {},
    "colab_type": "code",
    "id": "wv-ni8GpJbaU",
    "outputId": "dcf7198f-59a6-4eac-d912-565146b1ce16"
   },
   "outputs": [
    {
     "name": "stdout",
     "output_type": "stream",
     "text": [
      "Tensor(\"activation_109/Relu:0\", shape=(None, 224, 224, 32), dtype=float32)\n"
     ]
    }
   ],
   "source": [
    "img_input = Input(shape=(224,224,32))\n",
    "x=inception_resnet_block(img_input, 0.1, 'Incpetion_Block-A', activation='relu')\n",
    "print(x)"
   ]
  },
  {
   "cell_type": "markdown",
   "metadata": {
    "colab_type": "text",
    "id": "HOBuOAjOJbab"
   },
   "source": [
    "## 測試"
   ]
  },
  {
   "cell_type": "code",
   "execution_count": 67,
   "metadata": {
    "colab": {},
    "colab_type": "code",
    "id": "T-igNjppJbad",
    "outputId": "0455b644-5456-4145-d719-3878348aa4cb"
   },
   "outputs": [
    {
     "name": "stdout",
     "output_type": "stream",
     "text": [
      "Tensor(\"activation_116/Relu:0\", shape=(None, 224, 224, 32), dtype=float32)\n"
     ]
    }
   ],
   "source": [
    "img_input = Input(shape=(224,224,32))\n",
    "x=inception_resnet_block(img_input, 0.1, 'Incpetion_Block-A', activation='relu')\n",
    "print(x)"
   ]
  },
  {
   "cell_type": "code",
   "execution_count": 68,
   "metadata": {
    "colab": {},
    "colab_type": "code",
    "id": "V7otKKZWJbah",
    "outputId": "bca7b98f-b8ab-4318-d884-77c8ee7c7fa8"
   },
   "outputs": [
    {
     "name": "stdout",
     "output_type": "stream",
     "text": [
      "Tensor(\"activation_121/Relu:0\", shape=(None, 224, 224, 32), dtype=float32)\n"
     ]
    }
   ],
   "source": [
    "img_input = Input(shape=(224,224,32))\n",
    "x=inception_resnet_block(img_input, 0.1, 'Incpetion_Block-B', activation='relu')\n",
    "print(x)"
   ]
  },
  {
   "cell_type": "code",
   "execution_count": 69,
   "metadata": {
    "colab": {},
    "colab_type": "code",
    "id": "RjxCkTlHJbal",
    "outputId": "462b602c-2a47-4790-eff4-13c875aba275"
   },
   "outputs": [
    {
     "name": "stdout",
     "output_type": "stream",
     "text": [
      "Tensor(\"activation_126/Relu:0\", shape=(None, 224, 224, 32), dtype=float32)\n"
     ]
    }
   ],
   "source": [
    "img_input = Input(shape=(224,224,32))\n",
    "x=inception_resnet_block(img_input, 0.1, 'Incpetion_Block-C', activation='relu')\n",
    "print(x)"
   ]
  },
  {
   "cell_type": "markdown",
   "metadata": {
    "colab_type": "text",
    "id": "UYD4kS0BJbao"
   },
   "source": [
    "## 嘗試導入Inception Block到 Vgg_Inception中"
   ]
  },
  {
   "cell_type": "code",
   "execution_count": 72,
   "metadata": {
    "colab": {},
    "colab_type": "code",
    "id": "FEe8WW2qJbap"
   },
   "outputs": [],
   "source": [
    "def VGG16_ResNet_Inception(include_top=True,input_tensor=None, input_shape=(224,224,1),\n",
    "          pooling='max',classes=1000):\n",
    " \n",
    "    img_input = Input(shape=input_shape)\n",
    "    \n",
    "    x = Conv2d_bn(img_input,64, (3, 3), activation='relu', padding='same', name='block1_conv1')\n",
    "    x = Conv2d_bn(x,64, (3, 3), activation='relu', padding='same', name='block1_conv2')\n",
    "    x = MaxPooling2D((2, 2), strides=(2, 2), name='block1_pool')(x)\n",
    "\n",
    "    # Block 2\n",
    "    x = Conv2d_bn(x,128, (3, 3), activation='relu', padding='same', name='block2_conv1')\n",
    "    x = Conv2d_bn(x,128, (3, 3), activation='relu', padding='same', name='block2_conv2')\n",
    "    x = MaxPooling2D((2, 2), strides=(2, 2), name='block2_pool')(x)\n",
    "\n",
    "    # Block 3\n",
    "    x =inception_resnet_block(x, 0.1, 'Incpetion_Block-A', activation='relu')\n",
    "    x =inception_resnet_block(x, 0.1, 'Incpetion_Block-A', activation='relu')\n",
    "    x =inception_resnet_block(x, 0.1, 'Incpetion_Block-A', activation='relu')\n",
    "    x = MaxPooling2D((2, 2), strides=(2, 2), name='block3_pool')(x)\n",
    "\n",
    "    # Block 4\n",
    "    x = Conv2d_bn(x,512, (3, 3), activation='relu', padding='same', name='block4_conv1')\n",
    "    x = Conv2d_bn(x,512, (3, 3), activation='relu', padding='same', name='block4_conv2')\n",
    "    x = Conv2d_bn(x,512, (3, 3), activation='relu', padding='same', name='block4_conv3')\n",
    "    x = MaxPooling2D((2, 2), strides=(2, 2), name='block4_pool')(x)\n",
    "\n",
    "    # Block 5 \n",
    "    #為什麼要加InceptionV3_block 原因?\n",
    "    x =inception_resnet_block(x, 0.1, 'Incpetion_Block-B', activation='relu')\n",
    "    x =inception_resnet_block(x, 0.1, 'Incpetion_Block-B', activation='relu')\n",
    "    x =inception_resnet_block(x, 0.1, 'Incpetion_Block-B', activation='relu')\n",
    "    x =MaxPooling2D((2, 2), strides=(2, 2), name='block5_pool')(x)\n",
    "\n",
    "    if include_top:\n",
    "        # Classification block\n",
    "        x = Flatten(name='flatten')(x)\n",
    "        x = Dense(4096, activation='relu', name='fc1')(x)\n",
    "        x = Dense(4096, activation='relu', name='fc2')(x)\n",
    "        x = Dense(classes, activation='softmax', name='predictions')(x)\n",
    "    else:\n",
    "       #可以提醒學員為什麼要加avg或是max\n",
    "        if pooling == 'avg':\n",
    "            x = GlobalAveragePooling2D()(x)\n",
    "        elif pooling == 'max':\n",
    "            x = GlobalMaxPooling2D()(x)\n",
    "\n",
    "    inputs = img_input\n",
    "    # Create model.\n",
    "    model = Model(inputs, x, name='vgg16')\n",
    "\n",
    "   \n",
    "    return model\n",
    "\n"
   ]
  },
  {
   "cell_type": "code",
   "execution_count": 73,
   "metadata": {
    "colab": {},
    "colab_type": "code",
    "id": "mQufg4jFJbas"
   },
   "outputs": [],
   "source": [
    "model = VGG16_ResNet_Inception(include_top=False)"
   ]
  },
  {
   "cell_type": "code",
   "execution_count": 74,
   "metadata": {
    "colab": {},
    "colab_type": "code",
    "id": "e3WfMLiYJbav"
   },
   "outputs": [
    {
     "name": "stdout",
     "output_type": "stream",
     "text": [
      "Model: \"vgg16\"\n",
      "__________________________________________________________________________________________________\n",
      "Layer (type)                    Output Shape         Param #     Connected to                     \n",
      "==================================================================================================\n",
      "input_30 (InputLayer)           (None, 224, 224, 1)  0                                            \n",
      "__________________________________________________________________________________________________\n",
      "block1_conv1_conv (Conv2D)      (None, 224, 224, 64) 576         input_30[0][0]                   \n",
      "__________________________________________________________________________________________________\n",
      "block1_conv1_bn (BatchNormaliza (None, 224, 224, 64) 192         block1_conv1_conv[0][0]          \n",
      "__________________________________________________________________________________________________\n",
      "block1_conv1_act (Activation)   (None, 224, 224, 64) 0           block1_conv1_bn[0][0]            \n",
      "__________________________________________________________________________________________________\n",
      "block1_conv2_conv (Conv2D)      (None, 224, 224, 64) 36864       block1_conv1_act[0][0]           \n",
      "__________________________________________________________________________________________________\n",
      "block1_conv2_bn (BatchNormaliza (None, 224, 224, 64) 192         block1_conv2_conv[0][0]          \n",
      "__________________________________________________________________________________________________\n",
      "block1_conv2_act (Activation)   (None, 224, 224, 64) 0           block1_conv2_bn[0][0]            \n",
      "__________________________________________________________________________________________________\n",
      "block1_pool (MaxPooling2D)      (None, 112, 112, 64) 0           block1_conv2_act[0][0]           \n",
      "__________________________________________________________________________________________________\n",
      "block2_conv1_conv (Conv2D)      (None, 112, 112, 128 73728       block1_pool[0][0]                \n",
      "__________________________________________________________________________________________________\n",
      "block2_conv1_bn (BatchNormaliza (None, 112, 112, 128 384         block2_conv1_conv[0][0]          \n",
      "__________________________________________________________________________________________________\n",
      "block2_conv1_act (Activation)   (None, 112, 112, 128 0           block2_conv1_bn[0][0]            \n",
      "__________________________________________________________________________________________________\n",
      "block2_conv2_conv (Conv2D)      (None, 112, 112, 128 147456      block2_conv1_act[0][0]           \n",
      "__________________________________________________________________________________________________\n",
      "block2_conv2_bn (BatchNormaliza (None, 112, 112, 128 384         block2_conv2_conv[0][0]          \n",
      "__________________________________________________________________________________________________\n",
      "block2_conv2_act (Activation)   (None, 112, 112, 128 0           block2_conv2_bn[0][0]            \n",
      "__________________________________________________________________________________________________\n",
      "block2_pool (MaxPooling2D)      (None, 56, 56, 128)  0           block2_conv2_act[0][0]           \n",
      "__________________________________________________________________________________________________\n",
      "conv2d_140 (Conv2D)             (None, 56, 56, 32)   4096        block2_pool[0][0]                \n",
      "__________________________________________________________________________________________________\n",
      "batch_normalization_140 (BatchN (None, 56, 56, 32)   96          conv2d_140[0][0]                 \n",
      "__________________________________________________________________________________________________\n",
      "activation_137 (Activation)     (None, 56, 56, 32)   0           batch_normalization_140[0][0]    \n",
      "__________________________________________________________________________________________________\n",
      "conv2d_138 (Conv2D)             (None, 56, 56, 32)   4096        block2_pool[0][0]                \n",
      "__________________________________________________________________________________________________\n",
      "conv2d_141 (Conv2D)             (None, 56, 56, 48)   13824       activation_137[0][0]             \n",
      "__________________________________________________________________________________________________\n",
      "batch_normalization_138 (BatchN (None, 56, 56, 32)   96          conv2d_138[0][0]                 \n",
      "__________________________________________________________________________________________________\n",
      "batch_normalization_141 (BatchN (None, 56, 56, 48)   144         conv2d_141[0][0]                 \n",
      "__________________________________________________________________________________________________\n",
      "activation_135 (Activation)     (None, 56, 56, 32)   0           batch_normalization_138[0][0]    \n",
      "__________________________________________________________________________________________________\n",
      "activation_138 (Activation)     (None, 56, 56, 48)   0           batch_normalization_141[0][0]    \n",
      "__________________________________________________________________________________________________\n",
      "conv2d_137 (Conv2D)             (None, 56, 56, 32)   4096        block2_pool[0][0]                \n",
      "__________________________________________________________________________________________________\n",
      "conv2d_139 (Conv2D)             (None, 56, 56, 32)   9216        activation_135[0][0]             \n",
      "__________________________________________________________________________________________________\n",
      "conv2d_142 (Conv2D)             (None, 56, 56, 64)   27648       activation_138[0][0]             \n",
      "__________________________________________________________________________________________________\n",
      "batch_normalization_137 (BatchN (None, 56, 56, 32)   96          conv2d_137[0][0]                 \n",
      "__________________________________________________________________________________________________\n",
      "batch_normalization_139 (BatchN (None, 56, 56, 32)   96          conv2d_139[0][0]                 \n",
      "__________________________________________________________________________________________________\n",
      "batch_normalization_142 (BatchN (None, 56, 56, 64)   192         conv2d_142[0][0]                 \n",
      "__________________________________________________________________________________________________\n",
      "activation_134 (Activation)     (None, 56, 56, 32)   0           batch_normalization_137[0][0]    \n",
      "__________________________________________________________________________________________________\n",
      "activation_136 (Activation)     (None, 56, 56, 32)   0           batch_normalization_139[0][0]    \n",
      "__________________________________________________________________________________________________\n",
      "activation_139 (Activation)     (None, 56, 56, 64)   0           batch_normalization_142[0][0]    \n",
      "__________________________________________________________________________________________________\n",
      "concatenate_22 (Concatenate)    (None, 56, 56, 128)  0           activation_134[0][0]             \n",
      "                                                                 activation_136[0][0]             \n",
      "                                                                 activation_139[0][0]             \n",
      "__________________________________________________________________________________________________\n",
      "conv2d_143 (Conv2D)             (None, 56, 56, 128)  16384       concatenate_22[0][0]             \n",
      "__________________________________________________________________________________________________\n",
      "batch_normalization_143 (BatchN (None, 56, 56, 128)  384         conv2d_143[0][0]                 \n",
      "__________________________________________________________________________________________________\n",
      "lambda_22 (Lambda)              (None, 56, 56, 128)  0           block2_pool[0][0]                \n",
      "                                                                 batch_normalization_143[0][0]    \n",
      "__________________________________________________________________________________________________\n",
      "activation_140 (Activation)     (None, 56, 56, 128)  0           lambda_22[0][0]                  \n",
      "__________________________________________________________________________________________________\n",
      "conv2d_147 (Conv2D)             (None, 56, 56, 32)   4096        activation_140[0][0]             \n",
      "__________________________________________________________________________________________________\n",
      "batch_normalization_147 (BatchN (None, 56, 56, 32)   96          conv2d_147[0][0]                 \n",
      "__________________________________________________________________________________________________\n",
      "activation_144 (Activation)     (None, 56, 56, 32)   0           batch_normalization_147[0][0]    \n",
      "__________________________________________________________________________________________________\n",
      "conv2d_145 (Conv2D)             (None, 56, 56, 32)   4096        activation_140[0][0]             \n",
      "__________________________________________________________________________________________________\n",
      "conv2d_148 (Conv2D)             (None, 56, 56, 48)   13824       activation_144[0][0]             \n",
      "__________________________________________________________________________________________________\n",
      "batch_normalization_145 (BatchN (None, 56, 56, 32)   96          conv2d_145[0][0]                 \n",
      "__________________________________________________________________________________________________\n",
      "batch_normalization_148 (BatchN (None, 56, 56, 48)   144         conv2d_148[0][0]                 \n",
      "__________________________________________________________________________________________________\n",
      "activation_142 (Activation)     (None, 56, 56, 32)   0           batch_normalization_145[0][0]    \n",
      "__________________________________________________________________________________________________\n",
      "activation_145 (Activation)     (None, 56, 56, 48)   0           batch_normalization_148[0][0]    \n",
      "__________________________________________________________________________________________________\n",
      "conv2d_144 (Conv2D)             (None, 56, 56, 32)   4096        activation_140[0][0]             \n",
      "__________________________________________________________________________________________________\n",
      "conv2d_146 (Conv2D)             (None, 56, 56, 32)   9216        activation_142[0][0]             \n",
      "__________________________________________________________________________________________________\n",
      "conv2d_149 (Conv2D)             (None, 56, 56, 64)   27648       activation_145[0][0]             \n",
      "__________________________________________________________________________________________________\n",
      "batch_normalization_144 (BatchN (None, 56, 56, 32)   96          conv2d_144[0][0]                 \n",
      "__________________________________________________________________________________________________\n",
      "batch_normalization_146 (BatchN (None, 56, 56, 32)   96          conv2d_146[0][0]                 \n",
      "__________________________________________________________________________________________________\n",
      "batch_normalization_149 (BatchN (None, 56, 56, 64)   192         conv2d_149[0][0]                 \n",
      "__________________________________________________________________________________________________\n",
      "activation_141 (Activation)     (None, 56, 56, 32)   0           batch_normalization_144[0][0]    \n",
      "__________________________________________________________________________________________________\n",
      "activation_143 (Activation)     (None, 56, 56, 32)   0           batch_normalization_146[0][0]    \n",
      "__________________________________________________________________________________________________\n",
      "activation_146 (Activation)     (None, 56, 56, 64)   0           batch_normalization_149[0][0]    \n",
      "__________________________________________________________________________________________________\n",
      "concatenate_23 (Concatenate)    (None, 56, 56, 128)  0           activation_141[0][0]             \n",
      "                                                                 activation_143[0][0]             \n",
      "                                                                 activation_146[0][0]             \n",
      "__________________________________________________________________________________________________\n",
      "conv2d_150 (Conv2D)             (None, 56, 56, 128)  16384       concatenate_23[0][0]             \n",
      "__________________________________________________________________________________________________\n",
      "batch_normalization_150 (BatchN (None, 56, 56, 128)  384         conv2d_150[0][0]                 \n",
      "__________________________________________________________________________________________________\n",
      "lambda_23 (Lambda)              (None, 56, 56, 128)  0           activation_140[0][0]             \n",
      "                                                                 batch_normalization_150[0][0]    \n",
      "__________________________________________________________________________________________________\n",
      "activation_147 (Activation)     (None, 56, 56, 128)  0           lambda_23[0][0]                  \n",
      "__________________________________________________________________________________________________\n",
      "conv2d_154 (Conv2D)             (None, 56, 56, 32)   4096        activation_147[0][0]             \n",
      "__________________________________________________________________________________________________\n",
      "batch_normalization_154 (BatchN (None, 56, 56, 32)   96          conv2d_154[0][0]                 \n",
      "__________________________________________________________________________________________________\n",
      "activation_151 (Activation)     (None, 56, 56, 32)   0           batch_normalization_154[0][0]    \n",
      "__________________________________________________________________________________________________\n",
      "conv2d_152 (Conv2D)             (None, 56, 56, 32)   4096        activation_147[0][0]             \n",
      "__________________________________________________________________________________________________\n",
      "conv2d_155 (Conv2D)             (None, 56, 56, 48)   13824       activation_151[0][0]             \n",
      "__________________________________________________________________________________________________\n",
      "batch_normalization_152 (BatchN (None, 56, 56, 32)   96          conv2d_152[0][0]                 \n",
      "__________________________________________________________________________________________________\n",
      "batch_normalization_155 (BatchN (None, 56, 56, 48)   144         conv2d_155[0][0]                 \n",
      "__________________________________________________________________________________________________\n",
      "activation_149 (Activation)     (None, 56, 56, 32)   0           batch_normalization_152[0][0]    \n",
      "__________________________________________________________________________________________________\n",
      "activation_152 (Activation)     (None, 56, 56, 48)   0           batch_normalization_155[0][0]    \n",
      "__________________________________________________________________________________________________\n",
      "conv2d_151 (Conv2D)             (None, 56, 56, 32)   4096        activation_147[0][0]             \n",
      "__________________________________________________________________________________________________\n",
      "conv2d_153 (Conv2D)             (None, 56, 56, 32)   9216        activation_149[0][0]             \n",
      "__________________________________________________________________________________________________\n",
      "conv2d_156 (Conv2D)             (None, 56, 56, 64)   27648       activation_152[0][0]             \n",
      "__________________________________________________________________________________________________\n",
      "batch_normalization_151 (BatchN (None, 56, 56, 32)   96          conv2d_151[0][0]                 \n",
      "__________________________________________________________________________________________________\n",
      "batch_normalization_153 (BatchN (None, 56, 56, 32)   96          conv2d_153[0][0]                 \n",
      "__________________________________________________________________________________________________\n",
      "batch_normalization_156 (BatchN (None, 56, 56, 64)   192         conv2d_156[0][0]                 \n",
      "__________________________________________________________________________________________________\n",
      "activation_148 (Activation)     (None, 56, 56, 32)   0           batch_normalization_151[0][0]    \n",
      "__________________________________________________________________________________________________\n",
      "activation_150 (Activation)     (None, 56, 56, 32)   0           batch_normalization_153[0][0]    \n",
      "__________________________________________________________________________________________________\n",
      "activation_153 (Activation)     (None, 56, 56, 64)   0           batch_normalization_156[0][0]    \n",
      "__________________________________________________________________________________________________\n",
      "concatenate_24 (Concatenate)    (None, 56, 56, 128)  0           activation_148[0][0]             \n",
      "                                                                 activation_150[0][0]             \n",
      "                                                                 activation_153[0][0]             \n",
      "__________________________________________________________________________________________________\n",
      "conv2d_157 (Conv2D)             (None, 56, 56, 128)  16384       concatenate_24[0][0]             \n",
      "__________________________________________________________________________________________________\n",
      "batch_normalization_157 (BatchN (None, 56, 56, 128)  384         conv2d_157[0][0]                 \n",
      "__________________________________________________________________________________________________\n",
      "lambda_24 (Lambda)              (None, 56, 56, 128)  0           activation_147[0][0]             \n",
      "                                                                 batch_normalization_157[0][0]    \n",
      "__________________________________________________________________________________________________\n",
      "activation_154 (Activation)     (None, 56, 56, 128)  0           lambda_24[0][0]                  \n",
      "__________________________________________________________________________________________________\n",
      "block3_pool (MaxPooling2D)      (None, 28, 28, 128)  0           activation_154[0][0]             \n",
      "__________________________________________________________________________________________________\n",
      "block4_conv1_conv (Conv2D)      (None, 28, 28, 512)  589824      block3_pool[0][0]                \n",
      "__________________________________________________________________________________________________\n",
      "block4_conv1_bn (BatchNormaliza (None, 28, 28, 512)  1536        block4_conv1_conv[0][0]          \n",
      "__________________________________________________________________________________________________\n",
      "block4_conv1_act (Activation)   (None, 28, 28, 512)  0           block4_conv1_bn[0][0]            \n",
      "__________________________________________________________________________________________________\n",
      "block4_conv2_conv (Conv2D)      (None, 28, 28, 512)  2359296     block4_conv1_act[0][0]           \n",
      "__________________________________________________________________________________________________\n",
      "block4_conv2_bn (BatchNormaliza (None, 28, 28, 512)  1536        block4_conv2_conv[0][0]          \n",
      "__________________________________________________________________________________________________\n",
      "block4_conv2_act (Activation)   (None, 28, 28, 512)  0           block4_conv2_bn[0][0]            \n",
      "__________________________________________________________________________________________________\n",
      "block4_conv3_conv (Conv2D)      (None, 28, 28, 512)  2359296     block4_conv2_act[0][0]           \n",
      "__________________________________________________________________________________________________\n",
      "block4_conv3_bn (BatchNormaliza (None, 28, 28, 512)  1536        block4_conv3_conv[0][0]          \n",
      "__________________________________________________________________________________________________\n",
      "block4_conv3_act (Activation)   (None, 28, 28, 512)  0           block4_conv3_bn[0][0]            \n",
      "__________________________________________________________________________________________________\n",
      "block4_pool (MaxPooling2D)      (None, 14, 14, 512)  0           block4_conv3_act[0][0]           \n",
      "__________________________________________________________________________________________________\n",
      "conv2d_159 (Conv2D)             (None, 14, 14, 128)  65536       block4_pool[0][0]                \n",
      "__________________________________________________________________________________________________\n",
      "batch_normalization_159 (BatchN (None, 14, 14, 128)  384         conv2d_159[0][0]                 \n",
      "__________________________________________________________________________________________________\n",
      "activation_156 (Activation)     (None, 14, 14, 128)  0           batch_normalization_159[0][0]    \n",
      "__________________________________________________________________________________________________\n",
      "conv2d_160 (Conv2D)             (None, 14, 14, 160)  143360      activation_156[0][0]             \n",
      "__________________________________________________________________________________________________\n",
      "batch_normalization_160 (BatchN (None, 14, 14, 160)  480         conv2d_160[0][0]                 \n",
      "__________________________________________________________________________________________________\n",
      "activation_157 (Activation)     (None, 14, 14, 160)  0           batch_normalization_160[0][0]    \n",
      "__________________________________________________________________________________________________\n",
      "conv2d_158 (Conv2D)             (None, 14, 14, 192)  98304       block4_pool[0][0]                \n",
      "__________________________________________________________________________________________________\n",
      "conv2d_161 (Conv2D)             (None, 14, 14, 192)  215040      activation_157[0][0]             \n",
      "__________________________________________________________________________________________________\n",
      "batch_normalization_158 (BatchN (None, 14, 14, 192)  576         conv2d_158[0][0]                 \n",
      "__________________________________________________________________________________________________\n",
      "batch_normalization_161 (BatchN (None, 14, 14, 192)  576         conv2d_161[0][0]                 \n",
      "__________________________________________________________________________________________________\n",
      "activation_155 (Activation)     (None, 14, 14, 192)  0           batch_normalization_158[0][0]    \n",
      "__________________________________________________________________________________________________\n",
      "activation_158 (Activation)     (None, 14, 14, 192)  0           batch_normalization_161[0][0]    \n",
      "__________________________________________________________________________________________________\n",
      "concatenate_25 (Concatenate)    (None, 14, 14, 384)  0           activation_155[0][0]             \n",
      "                                                                 activation_158[0][0]             \n",
      "__________________________________________________________________________________________________\n",
      "conv2d_162 (Conv2D)             (None, 14, 14, 512)  196608      concatenate_25[0][0]             \n",
      "__________________________________________________________________________________________________\n",
      "batch_normalization_162 (BatchN (None, 14, 14, 512)  1536        conv2d_162[0][0]                 \n",
      "__________________________________________________________________________________________________\n",
      "lambda_25 (Lambda)              (None, 14, 14, 512)  0           block4_pool[0][0]                \n",
      "                                                                 batch_normalization_162[0][0]    \n",
      "__________________________________________________________________________________________________\n",
      "activation_159 (Activation)     (None, 14, 14, 512)  0           lambda_25[0][0]                  \n",
      "__________________________________________________________________________________________________\n",
      "conv2d_164 (Conv2D)             (None, 14, 14, 128)  65536       activation_159[0][0]             \n",
      "__________________________________________________________________________________________________\n",
      "batch_normalization_164 (BatchN (None, 14, 14, 128)  384         conv2d_164[0][0]                 \n",
      "__________________________________________________________________________________________________\n",
      "activation_161 (Activation)     (None, 14, 14, 128)  0           batch_normalization_164[0][0]    \n",
      "__________________________________________________________________________________________________\n",
      "conv2d_165 (Conv2D)             (None, 14, 14, 160)  143360      activation_161[0][0]             \n",
      "__________________________________________________________________________________________________\n",
      "batch_normalization_165 (BatchN (None, 14, 14, 160)  480         conv2d_165[0][0]                 \n",
      "__________________________________________________________________________________________________\n",
      "activation_162 (Activation)     (None, 14, 14, 160)  0           batch_normalization_165[0][0]    \n",
      "__________________________________________________________________________________________________\n",
      "conv2d_163 (Conv2D)             (None, 14, 14, 192)  98304       activation_159[0][0]             \n",
      "__________________________________________________________________________________________________\n",
      "conv2d_166 (Conv2D)             (None, 14, 14, 192)  215040      activation_162[0][0]             \n",
      "__________________________________________________________________________________________________\n",
      "batch_normalization_163 (BatchN (None, 14, 14, 192)  576         conv2d_163[0][0]                 \n",
      "__________________________________________________________________________________________________\n",
      "batch_normalization_166 (BatchN (None, 14, 14, 192)  576         conv2d_166[0][0]                 \n",
      "__________________________________________________________________________________________________\n",
      "activation_160 (Activation)     (None, 14, 14, 192)  0           batch_normalization_163[0][0]    \n",
      "__________________________________________________________________________________________________\n",
      "activation_163 (Activation)     (None, 14, 14, 192)  0           batch_normalization_166[0][0]    \n",
      "__________________________________________________________________________________________________\n",
      "concatenate_26 (Concatenate)    (None, 14, 14, 384)  0           activation_160[0][0]             \n",
      "                                                                 activation_163[0][0]             \n",
      "__________________________________________________________________________________________________\n",
      "conv2d_167 (Conv2D)             (None, 14, 14, 512)  196608      concatenate_26[0][0]             \n",
      "__________________________________________________________________________________________________\n",
      "batch_normalization_167 (BatchN (None, 14, 14, 512)  1536        conv2d_167[0][0]                 \n",
      "__________________________________________________________________________________________________\n",
      "lambda_26 (Lambda)              (None, 14, 14, 512)  0           activation_159[0][0]             \n",
      "                                                                 batch_normalization_167[0][0]    \n",
      "__________________________________________________________________________________________________\n",
      "activation_164 (Activation)     (None, 14, 14, 512)  0           lambda_26[0][0]                  \n",
      "__________________________________________________________________________________________________\n",
      "conv2d_169 (Conv2D)             (None, 14, 14, 128)  65536       activation_164[0][0]             \n",
      "__________________________________________________________________________________________________\n",
      "batch_normalization_169 (BatchN (None, 14, 14, 128)  384         conv2d_169[0][0]                 \n",
      "__________________________________________________________________________________________________\n",
      "activation_166 (Activation)     (None, 14, 14, 128)  0           batch_normalization_169[0][0]    \n",
      "__________________________________________________________________________________________________\n",
      "conv2d_170 (Conv2D)             (None, 14, 14, 160)  143360      activation_166[0][0]             \n",
      "__________________________________________________________________________________________________\n",
      "batch_normalization_170 (BatchN (None, 14, 14, 160)  480         conv2d_170[0][0]                 \n",
      "__________________________________________________________________________________________________\n",
      "activation_167 (Activation)     (None, 14, 14, 160)  0           batch_normalization_170[0][0]    \n",
      "__________________________________________________________________________________________________\n",
      "conv2d_168 (Conv2D)             (None, 14, 14, 192)  98304       activation_164[0][0]             \n",
      "__________________________________________________________________________________________________\n",
      "conv2d_171 (Conv2D)             (None, 14, 14, 192)  215040      activation_167[0][0]             \n",
      "__________________________________________________________________________________________________\n",
      "batch_normalization_168 (BatchN (None, 14, 14, 192)  576         conv2d_168[0][0]                 \n",
      "__________________________________________________________________________________________________\n",
      "batch_normalization_171 (BatchN (None, 14, 14, 192)  576         conv2d_171[0][0]                 \n",
      "__________________________________________________________________________________________________\n",
      "activation_165 (Activation)     (None, 14, 14, 192)  0           batch_normalization_168[0][0]    \n",
      "__________________________________________________________________________________________________\n",
      "activation_168 (Activation)     (None, 14, 14, 192)  0           batch_normalization_171[0][0]    \n",
      "__________________________________________________________________________________________________\n",
      "concatenate_27 (Concatenate)    (None, 14, 14, 384)  0           activation_165[0][0]             \n",
      "                                                                 activation_168[0][0]             \n",
      "__________________________________________________________________________________________________\n",
      "conv2d_172 (Conv2D)             (None, 14, 14, 512)  196608      concatenate_27[0][0]             \n",
      "__________________________________________________________________________________________________\n",
      "batch_normalization_172 (BatchN (None, 14, 14, 512)  1536        conv2d_172[0][0]                 \n",
      "__________________________________________________________________________________________________\n",
      "lambda_27 (Lambda)              (None, 14, 14, 512)  0           activation_164[0][0]             \n",
      "                                                                 batch_normalization_172[0][0]    \n",
      "__________________________________________________________________________________________________\n",
      "activation_169 (Activation)     (None, 14, 14, 512)  0           lambda_27[0][0]                  \n",
      "__________________________________________________________________________________________________\n",
      "block5_pool (MaxPooling2D)      (None, 7, 7, 512)    0           activation_169[0][0]             \n",
      "__________________________________________________________________________________________________\n",
      "global_max_pooling2d_1 (GlobalM (None, 512)          0           block5_pool[0][0]                \n",
      "==================================================================================================\n",
      "Total params: 7,981,392\n",
      "Trainable params: 7,968,240\n",
      "Non-trainable params: 13,152\n",
      "__________________________________________________________________________________________________\n"
     ]
    }
   ],
   "source": [
    "model.summary()"
   ]
  }
 ],
 "metadata": {
  "colab": {
   "name": "Classic CNN-ResNet、InceptionV4、Inception-ResNet作業.ipynb",
   "provenance": []
  },
  "kernelspec": {
   "display_name": "Python 3",
   "language": "python",
   "name": "python3"
  },
  "language_info": {
   "codemirror_mode": {
    "name": "ipython",
    "version": 3
   },
   "file_extension": ".py",
   "mimetype": "text/x-python",
   "name": "python",
   "nbconvert_exporter": "python",
   "pygments_lexer": "ipython3",
   "version": "3.7.4"
  }
 },
 "nbformat": 4,
 "nbformat_minor": 1
}
