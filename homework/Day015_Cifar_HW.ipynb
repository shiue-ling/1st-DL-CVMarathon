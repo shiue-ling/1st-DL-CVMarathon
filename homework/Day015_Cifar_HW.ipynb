{
 "cells": [
  {
   "cell_type": "markdown",
   "metadata": {},
   "source": [
    "## 『本次練習內容』\n",
    "#### 運用這幾天所學觀念搭建一個CNN分類器"
   ]
  },
  {
   "cell_type": "markdown",
   "metadata": {},
   "source": [
    "## 『本次練習目的』\n",
    "  #### 熟悉CNN分類器搭建步驟與原理\n",
    "  #### 學員們可以嘗試不同搭法，如使用不同的Maxpooling層，用GlobalAveragePooling取代Flatten等等"
   ]
  },
  {
   "cell_type": "code",
   "execution_count": 134,
   "metadata": {},
   "outputs": [],
   "source": [
    "from keras.models import Sequential\n",
    "from keras.layers import Convolution2D\n",
    "from keras.layers import MaxPooling2D\n",
    "from keras.layers import Flatten\n",
    "from keras.layers import Dense\n",
    "from keras.layers import Dropout\n",
    "from keras.layers import Activation\n",
    "from keras.layers import BatchNormalization\n",
    "from keras.datasets import cifar10\n",
    "import numpy as np\n",
    "import tensorflow as tf\n",
    "from sklearn.preprocessing import OneHotEncoder\n"
   ]
  },
  {
   "cell_type": "code",
   "execution_count": 135,
   "metadata": {},
   "outputs": [
    {
     "name": "stdout",
     "output_type": "stream",
     "text": [
      "(50000, 32, 32, 3)\n"
     ]
    }
   ],
   "source": [
    "# x_train = (5000, 32, 32, 3) y_train = clifar10\n",
    "(x_train, y_train), (x_test, y_test) = cifar10.load_data()\n",
    "\n",
    "print(x_train.shape) #(50000, 32, 32, 3)\n",
    "\n",
    "## Normalize Data\n",
    "def normalize(X_train,X_test):\n",
    "        mean = np.mean(X_train,axis=(0, 1, 2, 3))\n",
    "        std = np.std(X_train, axis=(0, 1, 2, 3))\n",
    "        X_train = (X_train-mean)/(std+1e-7)\n",
    "        X_test = (X_test-mean)/(std+1e-7) \n",
    "        return X_train, X_test,mean,std\n",
    "    \n",
    "    \n",
    "## Normalize Training and Testset    \n",
    "x_train, x_test, mean_train, std_train = normalize(x_train, x_test) "
   ]
  },
  {
   "cell_type": "code",
   "execution_count": 136,
   "metadata": {
    "scrolled": true
   },
   "outputs": [
    {
     "name": "stderr",
     "output_type": "stream",
     "text": [
      "/Users/wasn/opt/anaconda3/lib/python3.7/site-packages/sklearn/preprocessing/_encoders.py:415: FutureWarning: The handling of integer data will change in version 0.22. Currently, the categories are determined based on the range [0, max(values)], while in the future they will be determined based on the unique values.\n",
      "If you want the future behaviour and silence this warning, you can specify \"categories='auto'\".\n",
      "In case you used a LabelEncoder before this OneHotEncoder to convert the categories to integers, then you can now use the OneHotEncoder directly.\n",
      "  warnings.warn(msg, FutureWarning)\n"
     ]
    }
   ],
   "source": [
    "## OneHot Label 由(None, 1)-(None, 10)\n",
    "## ex. label=2,變成[0,0,1,0,0,0,0,0,0,0]\n",
    "one_hot=OneHotEncoder()\n",
    "y_train=one_hot.fit_transform(y_train).toarray()\n",
    "y_test=one_hot.transform(y_test).toarray()"
   ]
  },
  {
   "cell_type": "code",
   "execution_count": 137,
   "metadata": {
    "scrolled": true
   },
   "outputs": [
    {
     "name": "stdout",
     "output_type": "stream",
     "text": [
      "Model: \"sequential_29\"\n",
      "_________________________________________________________________\n",
      "Layer (type)                 Output Shape              Param #   \n",
      "=================================================================\n",
      "conv2d_70 (Conv2D)           (None, 30, 30, 32)        896       \n",
      "_________________________________________________________________\n",
      "batch_normalization_60 (Batc (None, 30, 30, 32)        128       \n",
      "_________________________________________________________________\n",
      "max_pooling2d_20 (MaxPooling (None, 15, 15, 32)        0         \n",
      "_________________________________________________________________\n",
      "conv2d_71 (Conv2D)           (None, 15, 15, 32)        9248      \n",
      "_________________________________________________________________\n",
      "batch_normalization_61 (Batc (None, 15, 15, 32)        128       \n",
      "=================================================================\n",
      "Total params: 10,400\n",
      "Trainable params: 10,272\n",
      "Non-trainable params: 128\n",
      "_________________________________________________________________\n"
     ]
    }
   ],
   "source": [
    "classifier=Sequential()\n",
    "\n",
    "#卷積組合\n",
    "classifier.add(Convolution2D(32, kernel_size=(3, 3), input_shape=(32, 32, 3), activation='relu'))#32,3,3,input_shape=(32,32,3),activation='relu''\n",
    "# 預設 Ｖalid (多得刪除)\n",
    "# (3*3*3+1)*32 = 896\n",
    "\n",
    "classifier.add(BatchNormalization())\n",
    "# out_height = ceil(float(in_height)/float(strides[1])) = cile(30/1) = 30\n",
    "# out_width = ceil(float(in_width)/float(strides[1])) = cile(30/1) = 30\n",
    "# 32*4 = 128 (trainable parameters=64)\n",
    "\n",
    "'''自己決定MaxPooling2D放在哪裡'''\n",
    "classifier.add(MaxPooling2D(pool_size=(2,2)))\n",
    "\n",
    "#卷積組合\n",
    "classifier.add(Convolution2D(32, kernel_size=(3, 3), padding='same'))\n",
    "# (3*3*32+1)*32 = 9248\n",
    "classifier.add(BatchNormalization())\n",
    "\n",
    "classifier.summary()"
   ]
  },
  {
   "cell_type": "code",
   "execution_count": 138,
   "metadata": {},
   "outputs": [
    {
     "name": "stdout",
     "output_type": "stream",
     "text": [
      "Model: \"sequential_29\"\n",
      "_________________________________________________________________\n",
      "Layer (type)                 Output Shape              Param #   \n",
      "=================================================================\n",
      "conv2d_70 (Conv2D)           (None, 30, 30, 32)        896       \n",
      "_________________________________________________________________\n",
      "batch_normalization_60 (Batc (None, 30, 30, 32)        128       \n",
      "_________________________________________________________________\n",
      "max_pooling2d_20 (MaxPooling (None, 15, 15, 32)        0         \n",
      "_________________________________________________________________\n",
      "conv2d_71 (Conv2D)           (None, 15, 15, 32)        9248      \n",
      "_________________________________________________________________\n",
      "batch_normalization_61 (Batc (None, 15, 15, 32)        128       \n",
      "_________________________________________________________________\n",
      "conv2d_72 (Conv2D)           (None, 15, 15, 32)        25632     \n",
      "_________________________________________________________________\n",
      "batch_normalization_62 (Batc (None, 15, 15, 32)        128       \n",
      "_________________________________________________________________\n",
      "flatten_17 (Flatten)         (None, 7200)              0         \n",
      "_________________________________________________________________\n",
      "dense_18 (Dense)             (None, 100)               720100    \n",
      "_________________________________________________________________\n",
      "activation_3 (Activation)    (None, 100)               0         \n",
      "_________________________________________________________________\n",
      "dense_19 (Dense)             (None, 10)                1010      \n",
      "=================================================================\n",
      "Total params: 757,270\n",
      "Trainable params: 757,078\n",
      "Non-trainable params: 192\n",
      "_________________________________________________________________\n"
     ]
    },
    {
     "name": "stderr",
     "output_type": "stream",
     "text": [
      "/Users/wasn/opt/anaconda3/lib/python3.7/site-packages/ipykernel_launcher.py:13: UserWarning: Update your `Dense` call to the Keras 2 API: `Dense(activation=\"softmax\", units=10)`\n",
      "  del sys.path[0]\n"
     ]
    }
   ],
   "source": [
    "#卷積組合\n",
    "classifier.add(Convolution2D(32, kernel_size=(5, 5), padding='same'))\n",
    "classifier.add(BatchNormalization())\n",
    "\n",
    "#flatten\n",
    "classifier.add(Flatten())\n",
    "\n",
    "#FC\n",
    "classifier.add(Dense(output_dim=100,activation='relu')) #output_dim=100,activation=relu\n",
    "\n",
    "#輸出\n",
    "classifier.add(Dense(output_dim=10,activation='softmax'))\n",
    "\n",
    "classifier.summary()\n",
    "\n"
   ]
  },
  {
   "cell_type": "code",
   "execution_count": 139,
   "metadata": {
    "scrolled": false
   },
   "outputs": [
    {
     "name": "stdout",
     "output_type": "stream",
     "text": [
      "Epoch 1/100\n",
      "50000/50000 [==============================] - 112s 2ms/step - loss: 1.3506 - accuracy: 0.5408\n",
      "Epoch 2/100\n",
      "50000/50000 [==============================] - 123s 2ms/step - loss: 0.9702 - accuracy: 0.6603\n",
      "Epoch 3/100\n",
      "50000/50000 [==============================] - 122s 2ms/step - loss: 0.8116 - accuracy: 0.7159\n",
      "Epoch 4/100\n",
      "50000/50000 [==============================] - 2281s 46ms/step - loss: 0.7105 - accuracy: 0.7505\n",
      "Epoch 5/100\n",
      "50000/50000 [==============================] - 109s 2ms/step - loss: 0.6208 - accuracy: 0.7833\n",
      "Epoch 6/100\n",
      "50000/50000 [==============================] - 165s 3ms/step - loss: 0.5402 - accuracy: 0.8100\n",
      "Epoch 7/100\n",
      "50000/50000 [==============================] - 346s 7ms/step - loss: 0.4549 - accuracy: 0.8411\n",
      "Epoch 8/100\n",
      "50000/50000 [==============================] - 122s 2ms/step - loss: 0.3857 - accuracy: 0.8657\n",
      "Epoch 9/100\n",
      "50000/50000 [==============================] - 128s 3ms/step - loss: 0.3240 - accuracy: 0.8869\n",
      "Epoch 10/100\n",
      "50000/50000 [==============================] - 122s 2ms/step - loss: 0.2692 - accuracy: 0.9052\n",
      "Epoch 11/100\n",
      "50000/50000 [==============================] - 122s 2ms/step - loss: 0.2291 - accuracy: 0.9210\n",
      "Epoch 12/100\n",
      "50000/50000 [==============================] - 122s 2ms/step - loss: 0.1896 - accuracy: 0.9346\n",
      "Epoch 13/100\n",
      "50000/50000 [==============================] - 118s 2ms/step - loss: 0.1772 - accuracy: 0.9373\n",
      "Epoch 14/100\n",
      "50000/50000 [==============================] - 113s 2ms/step - loss: 0.1492 - accuracy: 0.9475\n",
      "Epoch 15/100\n",
      "50000/50000 [==============================] - 109s 2ms/step - loss: 0.1459 - accuracy: 0.9485\n",
      "Epoch 16/100\n",
      "50000/50000 [==============================] - 103s 2ms/step - loss: 0.1244 - accuracy: 0.9579\n",
      "Epoch 17/100\n",
      "50000/50000 [==============================] - 96s 2ms/step - loss: 0.1074 - accuracy: 0.9636\n",
      "Epoch 18/100\n",
      "50000/50000 [==============================] - 96s 2ms/step - loss: 0.1042 - accuracy: 0.9651\n",
      "Epoch 19/100\n",
      "50000/50000 [==============================] - 95s 2ms/step - loss: 0.1041 - accuracy: 0.9655\n",
      "Epoch 20/100\n",
      "50000/50000 [==============================] - 95s 2ms/step - loss: 0.1044 - accuracy: 0.9649\n",
      "Epoch 21/100\n",
      "50000/50000 [==============================] - 94s 2ms/step - loss: 0.0905 - accuracy: 0.9696\n",
      "Epoch 22/100\n",
      "50000/50000 [==============================] - 94s 2ms/step - loss: 0.0828 - accuracy: 0.9713\n",
      "Epoch 23/100\n",
      "50000/50000 [==============================] - 95s 2ms/step - loss: 0.0874 - accuracy: 0.9715\n",
      "Epoch 24/100\n",
      "50000/50000 [==============================] - 95s 2ms/step - loss: 0.0849 - accuracy: 0.9707\n",
      "Epoch 25/100\n",
      "50000/50000 [==============================] - 96s 2ms/step - loss: 0.0761 - accuracy: 0.9744\n",
      "Epoch 26/100\n",
      "50000/50000 [==============================] - 97s 2ms/step - loss: 0.0760 - accuracy: 0.9743\n",
      "Epoch 27/100\n",
      "50000/50000 [==============================] - 95s 2ms/step - loss: 0.0627 - accuracy: 0.9785\n",
      "Epoch 28/100\n",
      "50000/50000 [==============================] - 96s 2ms/step - loss: 0.0580 - accuracy: 0.9811\n",
      "Epoch 29/100\n",
      "50000/50000 [==============================] - 5747s 115ms/step - loss: 0.0820 - accuracy: 0.9743\n",
      "Epoch 30/100\n",
      "50000/50000 [==============================] - 92s 2ms/step - loss: 0.0640 - accuracy: 0.9784\n",
      "Epoch 31/100\n",
      "50000/50000 [==============================] - 3366s 67ms/step - loss: 0.0530 - accuracy: 0.9828\n",
      "Epoch 32/100\n",
      "50000/50000 [==============================] - 106s 2ms/step - loss: 0.0570 - accuracy: 0.9814\n",
      "Epoch 33/100\n",
      "50000/50000 [==============================] - 144882s 3s/step - loss: 0.0573 - accuracy: 0.9812\n",
      "Epoch 34/100\n",
      "50000/50000 [==============================] - 108s 2ms/step - loss: 0.0604 - accuracy: 0.9803\n",
      "Epoch 35/100\n",
      "50000/50000 [==============================] - 104s 2ms/step - loss: 0.0532 - accuracy: 0.9823\n",
      "Epoch 36/100\n",
      "50000/50000 [==============================] - 100s 2ms/step - loss: 0.0538 - accuracy: 0.9826\n",
      "Epoch 37/100\n",
      "50000/50000 [==============================] - 109s 2ms/step - loss: 0.0486 - accuracy: 0.9844\n",
      "Epoch 38/100\n",
      "50000/50000 [==============================] - 93s 2ms/step - loss: 0.0499 - accuracy: 0.9835\n",
      "Epoch 39/100\n",
      "50000/50000 [==============================] - 110s 2ms/step - loss: 0.0568 - accuracy: 0.9817\n",
      "Epoch 40/100\n",
      "50000/50000 [==============================] - 99s 2ms/step - loss: 0.0395 - accuracy: 0.9870\n",
      "Epoch 41/100\n",
      "50000/50000 [==============================] - 105s 2ms/step - loss: 0.0474 - accuracy: 0.9848\n",
      "Epoch 42/100\n",
      "50000/50000 [==============================] - 97s 2ms/step - loss: 0.0419 - accuracy: 0.9858\n",
      "Epoch 43/100\n",
      "50000/50000 [==============================] - 111s 2ms/step - loss: 0.0459 - accuracy: 0.9852\n",
      "Epoch 44/100\n",
      "50000/50000 [==============================] - 105s 2ms/step - loss: 0.0487 - accuracy: 0.9842\n",
      "Epoch 45/100\n",
      "50000/50000 [==============================] - 100s 2ms/step - loss: 0.0408 - accuracy: 0.9863\n",
      "Epoch 46/100\n",
      "50000/50000 [==============================] - 118s 2ms/step - loss: 0.0418 - accuracy: 0.9864\n",
      "Epoch 47/100\n",
      "50000/50000 [==============================] - 113s 2ms/step - loss: 0.0363 - accuracy: 0.9875\n",
      "Epoch 48/100\n",
      "50000/50000 [==============================] - 99s 2ms/step - loss: 0.0353 - accuracy: 0.9881\n",
      "Epoch 49/100\n",
      "50000/50000 [==============================] - 100s 2ms/step - loss: 0.0420 - accuracy: 0.9872\n",
      "Epoch 50/100\n",
      "50000/50000 [==============================] - 89s 2ms/step - loss: 0.0365 - accuracy: 0.9883\n",
      "Epoch 51/100\n",
      "50000/50000 [==============================] - 491s 10ms/step - loss: 0.0355 - accuracy: 0.9884\n",
      "Epoch 52/100\n",
      "50000/50000 [==============================] - 102s 2ms/step - loss: 0.0407 - accuracy: 0.9865\n",
      "Epoch 53/100\n",
      "50000/50000 [==============================] - 97s 2ms/step - loss: 0.0395 - accuracy: 0.9876\n",
      "Epoch 54/100\n",
      "50000/50000 [==============================] - 117s 2ms/step - loss: 0.0314 - accuracy: 0.9900\n",
      "Epoch 55/100\n",
      "50000/50000 [==============================] - 108s 2ms/step - loss: 0.0392 - accuracy: 0.9880\n",
      "Epoch 56/100\n",
      "50000/50000 [==============================] - 117s 2ms/step - loss: 0.0341 - accuracy: 0.9892\n",
      "Epoch 57/100\n",
      "50000/50000 [==============================] - 106s 2ms/step - loss: 0.0300 - accuracy: 0.9907\n",
      "Epoch 58/100\n",
      "50000/50000 [==============================] - 121s 2ms/step - loss: 0.0383 - accuracy: 0.9879\n",
      "Epoch 59/100\n",
      "50000/50000 [==============================] - 125s 2ms/step - loss: 0.0343 - accuracy: 0.9895\n",
      "Epoch 60/100\n",
      "50000/50000 [==============================] - 117s 2ms/step - loss: 0.0329 - accuracy: 0.9898\n",
      "Epoch 61/100\n",
      "50000/50000 [==============================] - 131s 3ms/step - loss: 0.0407 - accuracy: 0.9867\n",
      "Epoch 62/100\n",
      "50000/50000 [==============================] - 213s 4ms/step - loss: 0.0303 - accuracy: 0.9906\n",
      "Epoch 63/100\n",
      "50000/50000 [==============================] - 96s 2ms/step - loss: 0.0250 - accuracy: 0.9919\n",
      "Epoch 64/100\n",
      "50000/50000 [==============================] - 92s 2ms/step - loss: 0.0280 - accuracy: 0.9913\n",
      "Epoch 65/100\n",
      "50000/50000 [==============================] - 92s 2ms/step - loss: 0.0301 - accuracy: 0.9908\n",
      "Epoch 66/100\n",
      "50000/50000 [==============================] - 92s 2ms/step - loss: 0.0248 - accuracy: 0.9920\n",
      "Epoch 67/100\n",
      "50000/50000 [==============================] - 91s 2ms/step - loss: 0.0300 - accuracy: 0.9900\n",
      "Epoch 68/100\n",
      "50000/50000 [==============================] - 92s 2ms/step - loss: 0.0285 - accuracy: 0.9910\n",
      "Epoch 69/100\n",
      "50000/50000 [==============================] - 92s 2ms/step - loss: 0.0256 - accuracy: 0.9917\n",
      "Epoch 70/100\n",
      "50000/50000 [==============================] - 92s 2ms/step - loss: 0.0321 - accuracy: 0.9900\n",
      "Epoch 71/100\n",
      "50000/50000 [==============================] - 92s 2ms/step - loss: 0.0285 - accuracy: 0.9907\n",
      "Epoch 72/100\n",
      "50000/50000 [==============================] - 92s 2ms/step - loss: 0.0236 - accuracy: 0.9926\n",
      "Epoch 73/100\n",
      "50000/50000 [==============================] - 92s 2ms/step - loss: 0.0290 - accuracy: 0.9906\n",
      "Epoch 74/100\n",
      "50000/50000 [==============================] - 92s 2ms/step - loss: 0.0211 - accuracy: 0.9935\n",
      "Epoch 75/100\n",
      "50000/50000 [==============================] - 92s 2ms/step - loss: 0.0250 - accuracy: 0.9916\n",
      "Epoch 76/100\n",
      "50000/50000 [==============================] - 92s 2ms/step - loss: 0.0262 - accuracy: 0.9916\n",
      "Epoch 77/100\n"
     ]
    },
    {
     "name": "stdout",
     "output_type": "stream",
     "text": [
      "50000/50000 [==============================] - 92s 2ms/step - loss: 0.0203 - accuracy: 0.9935\n",
      "Epoch 78/100\n",
      "50000/50000 [==============================] - 92s 2ms/step - loss: 0.0236 - accuracy: 0.9927\n",
      "Epoch 79/100\n",
      "50000/50000 [==============================] - 91s 2ms/step - loss: 0.0295 - accuracy: 0.9908\n",
      "Epoch 80/100\n",
      "50000/50000 [==============================] - 92s 2ms/step - loss: 0.0226 - accuracy: 0.9928\n",
      "Epoch 81/100\n",
      "50000/50000 [==============================] - 92s 2ms/step - loss: 0.0243 - accuracy: 0.9928\n",
      "Epoch 82/100\n",
      "50000/50000 [==============================] - 89s 2ms/step - loss: 0.0160 - accuracy: 0.9946\n",
      "Epoch 83/100\n",
      "50000/50000 [==============================] - 89s 2ms/step - loss: 0.0263 - accuracy: 0.9918\n",
      "Epoch 84/100\n",
      "50000/50000 [==============================] - 89s 2ms/step - loss: 0.0228 - accuracy: 0.9926\n",
      "Epoch 85/100\n",
      "50000/50000 [==============================] - 89s 2ms/step - loss: 0.0246 - accuracy: 0.9915\n",
      "Epoch 86/100\n",
      "50000/50000 [==============================] - 89s 2ms/step - loss: 0.0222 - accuracy: 0.9926\n",
      "Epoch 87/100\n",
      "50000/50000 [==============================] - 88s 2ms/step - loss: 0.0159 - accuracy: 0.9945\n",
      "Epoch 88/100\n",
      "50000/50000 [==============================] - 89s 2ms/step - loss: 0.0128 - accuracy: 0.9958\n",
      "Epoch 89/100\n",
      "50000/50000 [==============================] - 88s 2ms/step - loss: 0.0244 - accuracy: 0.9923\n",
      "Epoch 90/100\n",
      "50000/50000 [==============================] - 88s 2ms/step - loss: 0.0305 - accuracy: 0.9903\n",
      "Epoch 91/100\n",
      "50000/50000 [==============================] - 88s 2ms/step - loss: 0.0257 - accuracy: 0.9917\n",
      "Epoch 92/100\n",
      "50000/50000 [==============================] - 89s 2ms/step - loss: 0.0166 - accuracy: 0.9945\n",
      "Epoch 93/100\n",
      "50000/50000 [==============================] - 89s 2ms/step - loss: 0.0168 - accuracy: 0.9942\n",
      "Epoch 94/100\n",
      "50000/50000 [==============================] - 88s 2ms/step - loss: 0.0190 - accuracy: 0.9942\n",
      "Epoch 95/100\n",
      "50000/50000 [==============================] - 89s 2ms/step - loss: 0.0235 - accuracy: 0.9928\n",
      "Epoch 96/100\n",
      "50000/50000 [==============================] - 89s 2ms/step - loss: 0.0174 - accuracy: 0.9944\n",
      "Epoch 97/100\n",
      "50000/50000 [==============================] - 89s 2ms/step - loss: 0.0150 - accuracy: 0.9951\n",
      "Epoch 98/100\n",
      "50000/50000 [==============================] - 89s 2ms/step - loss: 0.0241 - accuracy: 0.9923\n",
      "Epoch 99/100\n",
      "50000/50000 [==============================] - 89s 2ms/step - loss: 0.0188 - accuracy: 0.9940\n",
      "Epoch 100/100\n",
      "50000/50000 [==============================] - 89s 2ms/step - loss: 0.0148 - accuracy: 0.9954\n"
     ]
    },
    {
     "data": {
      "text/plain": [
       "<keras.callbacks.callbacks.History at 0x145c87f90>"
      ]
     },
     "execution_count": 139,
     "metadata": {},
     "output_type": "execute_result"
    }
   ],
   "source": [
    "#超過兩個就要選categorical_crossentrophy\n",
    "classifier.compile(optimizer = 'adam', loss = 'categorical_crossentropy', metrics = ['accuracy'])\n",
    "classifier.fit(x_train,y_train,batch_size=100,epochs=100)"
   ]
  },
  {
   "cell_type": "markdown",
   "metadata": {},
   "source": [
    "## 預測新圖片，輸入影像前處理要與訓練時相同\n",
    "#### ((X-mean)/(std+1e-7) ):這裡的mean跟std是訓練集的\n",
    "## 維度如下方示範"
   ]
  },
  {
   "cell_type": "code",
   "execution_count": 140,
   "metadata": {},
   "outputs": [
    {
     "data": {
      "text/plain": [
       "array([[3.0379672e-07, 6.9383253e-12, 1.8746190e-05, 9.9952090e-01,\n",
       "        4.6001925e-04, 2.6850355e-10, 2.4943953e-12, 2.2559048e-10,\n",
       "        8.8439645e-14, 1.4995011e-10]], dtype=float32)"
      ]
     },
     "execution_count": 140,
     "metadata": {},
     "output_type": "execute_result"
    }
   ],
   "source": [
    "input_example=(np.zeros(shape=(1,32,32,3))-mean_train)/(std_train+1e-7) \n",
    "classifier.predict(input_example)"
   ]
  }
 ],
 "metadata": {
  "kernelspec": {
   "display_name": "Python 3",
   "language": "python",
   "name": "python3"
  },
  "language_info": {
   "codemirror_mode": {
    "name": "ipython",
    "version": 3
   },
   "file_extension": ".py",
   "mimetype": "text/x-python",
   "name": "python",
   "nbconvert_exporter": "python",
   "pygments_lexer": "ipython3",
   "version": "3.7.4"
  }
 },
 "nbformat": 4,
 "nbformat_minor": 2
}
